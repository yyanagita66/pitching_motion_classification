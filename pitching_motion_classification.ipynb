# This is a classificaiton based on principal component analysis
